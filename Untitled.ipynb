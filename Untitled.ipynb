{
 "cells": [
  {
   "cell_type": "code",
   "execution_count": null,
   "id": "4676fd7c-72e1-4335-a1bc-1aa5b82611a6",
   "metadata": {},
   "outputs": [],
   "source": [
    "import mne\n",
    "from mne.datasets import eegbci\n",
    "from mne.preprocessing import create_eog_epochs\n",
    "import numpy as np\n",
    "\n",
    "# Set subject and runs (eyes open/closed)\n",
    "subject = 1\n",
    "runs = [1, 2]\n",
    "\n",
    "# Download and load raw EDF files\n",
    "raw_files = [eegbci.load_data(subject, run)[0] for run in runs]\n",
    "raw = mne.io.read_raw_edf(raw_files[0], preload=True)\n",
    "for f in raw_files[1:]:\n",
    "    raw.append(mne.io.read_raw_edf(f, preload=True))\n",
    "\n",
    "# Set montage and pick EEG channels\n",
    "raw.set_montage('standard_1005', on_missing='ignore')\n",
    "raw.pick_types(eeg=True, eog=False)\n",
    "\n",
    "# Extract events and epochs\n",
    "events, _ = mne.events_from_annotations(raw)\n",
    "event_id = dict(eyes_closed=1, eyes_open=2)\n",
    "tmin, tmax = 0, 2  # 2-second epochs\n",
    "\n",
    "epochs = mne.Epochs(raw, events, event_id, tmin, tmax, preload=True)\n",
    "X = epochs.get_data()\n",
    "y = epochs.events[:, 2]\n",
    "\n",
    "sfreq = raw.info['sfreq']\n"
   ]
  },
  {
   "cell_type": "code",
   "execution_count": null,
   "id": "13fb5914-68f2-45fe-a279-f63b8107c98d",
   "metadata": {},
   "outputs": [],
   "source": [
    "raw_fnames = eegbci.load_data(subject, runs)\n",
    "from mne.datasets import eegbci\n",
    "eegbci.load_data(1, [1])\n"
   ]
  },
  {
   "cell_type": "code",
   "execution_count": null,
   "id": "b2a8e0cf-9aa3-46e8-a867-46eafb94cf3b",
   "metadata": {},
   "outputs": [],
   "source": [
    "from scipy.signal import welch\n",
    "import numpy as np\n",
    "\n",
    "# Define frequency bands for EEG\n",
    "freq_bands = {\n",
    "    'delta': (1, 4),\n",
    "    'theta': (4, 8),\n",
    "    'alpha': (8, 13),\n",
    "    'beta': (13, 30),\n",
    "    'gamma': (30, 40)\n",
    "}\n"
   ]
  },
  {
   "cell_type": "code",
   "execution_count": null,
   "id": "94c0c80d-ce58-4610-a593-e4afd8559f59",
   "metadata": {},
   "outputs": [],
   "source": [
    "def bandpower(epoch, sfreq, band):\n",
    "    fmin, fmax = band\n",
    "    freqs, psd = welch(epoch, sfreq, nperseg=256)\n",
    "    idx_band = np.logical_and(freqs >= fmin, freqs <= fmax)\n",
    "    return np.trapz(psd[idx_band], freqs[idx_band])\n"
   ]
  },
  {
   "cell_type": "code",
   "execution_count": null,
   "id": "7b69013e-42a0-4635-b80c-2fdb961e47db",
   "metadata": {},
   "outputs": [],
   "source": [
    "sfreq = raw.info['sfreq']  # Sampling frequency\n",
    "\n",
    "features = []\n",
    "for epoch in X:\n",
    "    epoch_features = []\n",
    "    for ch_data in epoch:\n",
    "        for band in freq_bands.values():\n",
    "            bp = bandpower(ch_data, sfreq, band)\n",
    "            epoch_features.append(bp)\n",
    "    features.append(epoch_features)\n",
    "\n",
    "features = np.array(features)\n",
    "print(\"Features shape:\", features.shape)\n"
   ]
  },
  {
   "cell_type": "code",
   "execution_count": null,
   "id": "69df9363-8001-4520-ba84-ac64ef2dbf00",
   "metadata": {},
   "outputs": [],
   "source": [
    "print(\"Labels shape:\", y.shape)\n",
    "print(\"Labels distribution:\", np.bincount(y))\n"
   ]
  },
  {
   "cell_type": "code",
   "execution_count": null,
   "id": "c298c536-1a84-4861-b2ce-b1ba0d7997b4",
   "metadata": {},
   "outputs": [],
   "source": [
    "print(\"Jupyter is working.\")\n",
    "\n"
   ]
  },
  {
   "cell_type": "code",
   "execution_count": null,
   "id": "45ef3119-0ba2-416f-ae30-d2e3f65b2536",
   "metadata": {},
   "outputs": [],
   "source": []
  }
 ],
 "metadata": {
  "kernelspec": {
   "display_name": "Python (EEG)",
   "language": "python",
   "name": "eeg-env"
  },
  "language_info": {
   "codemirror_mode": {
    "name": "ipython",
    "version": 3
   },
   "file_extension": ".py",
   "mimetype": "text/x-python",
   "name": "python",
   "nbconvert_exporter": "python",
   "pygments_lexer": "ipython3",
   "version": "3.13.3"
  }
 },
 "nbformat": 4,
 "nbformat_minor": 5
}
